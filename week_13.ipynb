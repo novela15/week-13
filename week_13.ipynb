{
  "nbformat": 4,
  "nbformat_minor": 0,
  "metadata": {
    "colab": {
      "provenance": []
    },
    "kernelspec": {
      "name": "python3",
      "display_name": "Python 3"
    },
    "language_info": {
      "name": "python"
    }
  },
  "cells": [
    {
      "cell_type": "code",
      "source": [
        "#object methods\n",
        "class Person:\n",
        "  def __init__(self, name, age):\n",
        "    self.name = name\n",
        "    self.age = age\n",
        "\n",
        "  def myfunc(self):\n",
        "    print(\"Hallo nama saya \" + self.name)\n",
        "\n",
        "p1 = Person(\"Novela\", 18)\n",
        "p1.myfunc()"
      ],
      "metadata": {
        "colab": {
          "base_uri": "https://localhost:8080/"
        },
        "id": "dMn8317DpOdz",
        "outputId": "9228476f-2998-4d2f-a024-595cc86995ee"
      },
      "execution_count": 2,
      "outputs": [
        {
          "output_type": "stream",
          "name": "stdout",
          "text": [
            "Hallo nama saya Novela\n"
          ]
        }
      ]
    },
    {
      "cell_type": "markdown",
      "source": [
        "# **Weekly Exercise 1**"
      ],
      "metadata": {
        "id": "3n-9pGFXNeDs"
      }
    },
    {
      "cell_type": "code",
      "source": [
        "class AlatTulis:\n",
        "    def __init__(self, nama, stok, harga_satuan):\n",
        "        self.nama = nama\n",
        "        self.stok = stok\n",
        "        self.harga_satuan = harga_satuan\n",
        "        self.total_harga = self.hitung_total_harga()\n",
        "\n",
        "    # Setter\n",
        "    def set_nama(self, nama):\n",
        "        self.nama = nama\n",
        "\n",
        "    def set_stok(self, stok):\n",
        "        self.stok = stok\n",
        "        self.total_harga = self.hitung_total_harga()  # Update total harga jika stok berubah\n",
        "\n",
        "    def set_harga_satuan(self, harga_satuan):\n",
        "        self.harga_satuan = harga_satuan\n",
        "        self.total_harga = self.hitung_total_harga()  # Update total harga jika harga satuan berubah\n",
        "\n",
        "    # Getter\n",
        "    def get_nama(self):\n",
        "        return self.nama\n",
        "\n",
        "    def get_stok(self):\n",
        "        return self.stok\n",
        "\n",
        "    def get_harga_satuan(self):\n",
        "        return self.harga_satuan\n",
        "\n",
        "    def get_total_harga(self):\n",
        "        return self.total_harga\n",
        "\n",
        "    # Method untuk menghitung total harga\n",
        "    def hitung_total_harga(self):\n",
        "        return self.stok * self.harga_satuan\n",
        "\n",
        "# Contoh penggunaan\n",
        "if __name__ == \"__main__\":\n",
        "    # Membuat objek untuk setiap alat tulis\n",
        "    bolpoint = AlatTulis(\"Bolpoint\", 10, 2000)\n",
        "    pensil = AlatTulis(\"Pensil\", 10, 1000)\n",
        "    penghapus = AlatTulis(\"Penghapus\", 10, 500)\n",
        "\n",
        "    # Menampilkan informasi alat tulis\n",
        "    for alat in [bolpoint, pensil, penghapus]:\n",
        "        print(f\"Nama: {alat.get_nama()}\")\n",
        "        print(f\"Stok: {alat.get_stok()}\")\n",
        "        print(f\"Harga Satuan: {alat.get_harga_satuan()}\")\n",
        "        print(f\"Total Harga: {alat.get_total_harga()}\")\n",
        "        print(\"-\" * 20)"
      ],
      "metadata": {
        "colab": {
          "base_uri": "https://localhost:8080/"
        },
        "id": "u472nBuvjnFz",
        "outputId": "22b9a318-f3bf-4e7b-f91a-410a6d9732e0"
      },
      "execution_count": 1,
      "outputs": [
        {
          "output_type": "stream",
          "name": "stdout",
          "text": [
            "Nama: Bolpoint\n",
            "Stok: 10\n",
            "Harga Satuan: 2000\n",
            "Total Harga: 20000\n",
            "--------------------\n",
            "Nama: Pensil\n",
            "Stok: 10\n",
            "Harga Satuan: 1000\n",
            "Total Harga: 10000\n",
            "--------------------\n",
            "Nama: Penghapus\n",
            "Stok: 10\n",
            "Harga Satuan: 500\n",
            "Total Harga: 5000\n",
            "--------------------\n"
          ]
        }
      ]
    }
  ]
}